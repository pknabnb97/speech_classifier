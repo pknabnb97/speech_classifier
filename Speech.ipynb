{
 "cells": [
  {
   "cell_type": "code",
   "execution_count": 73,
   "metadata": {},
   "outputs": [],
   "source": [
    "import numpy as np\n",
    "import matplotlib.pyplot as plt"
   ]
  },
  {
   "cell_type": "code",
   "execution_count": 74,
   "metadata": {},
   "outputs": [],
   "source": [
    "trn_N=np.load(\"./Train_MFCC_N_2000.npy\")\n",
    "trn_S=np.load(\"./Train_MFCC_S_2000.npy\")"
   ]
  },
  {
   "cell_type": "code",
   "execution_count": 75,
   "metadata": {},
   "outputs": [],
   "source": [
    "trn_D = np.concatenate((trn_N,trn_S), axis=0)"
   ]
  },
  {
   "cell_type": "code",
   "execution_count": 76,
   "metadata": {},
   "outputs": [
    {
     "data": {
      "text/plain": [
       "(4000, 60)"
      ]
     },
     "execution_count": 76,
     "metadata": {},
     "output_type": "execute_result"
    }
   ],
   "source": [
    "trn_D.shape"
   ]
  },
  {
   "cell_type": "code",
   "execution_count": 77,
   "metadata": {},
   "outputs": [],
   "source": [
    "mean_D = trn_D.mean(axis=0)"
   ]
  },
  {
   "cell_type": "code",
   "execution_count": 78,
   "metadata": {},
   "outputs": [
    {
     "data": {
      "text/plain": [
       "(60,)"
      ]
     },
     "execution_count": 78,
     "metadata": {},
     "output_type": "execute_result"
    }
   ],
   "source": [
    "mean_D.shape"
   ]
  },
  {
   "cell_type": "code",
   "execution_count": 79,
   "metadata": {},
   "outputs": [
    {
     "data": {
      "text/plain": [
       "(1, 60)"
      ]
     },
     "execution_count": 79,
     "metadata": {},
     "output_type": "execute_result"
    }
   ],
   "source": [
    "meanVec = mean_D.reshape(1,60)\n",
    "meanVec.shape"
   ]
  },
  {
   "cell_type": "code",
   "execution_count": 80,
   "metadata": {},
   "outputs": [
    {
     "data": {
      "text/plain": [
       "(60,)"
      ]
     },
     "execution_count": 80,
     "metadata": {},
     "output_type": "execute_result"
    }
   ],
   "source": [
    "std_D = trn_D.std(axis=0)\n",
    "std_D.shape"
   ]
  },
  {
   "cell_type": "code",
   "execution_count": 81,
   "metadata": {},
   "outputs": [
    {
     "data": {
      "text/plain": [
       "(1, 60)"
      ]
     },
     "execution_count": 81,
     "metadata": {},
     "output_type": "execute_result"
    }
   ],
   "source": [
    "\n",
    "stdVec = std_D.reshape(1,60)\n",
    "stdVec.shape"
   ]
  },
  {
   "cell_type": "markdown",
   "metadata": {},
   "source": [
    "## Normalization"
   ]
  },
  {
   "cell_type": "code",
   "execution_count": 82,
   "metadata": {},
   "outputs": [],
   "source": [
    "norm_trn_D = (trn_D - meanVec)/stdVec"
   ]
  },
  {
   "cell_type": "code",
   "execution_count": 83,
   "metadata": {},
   "outputs": [],
   "source": [
    "from keras.models import Sequential\n",
    "from keras.layers import Dense, Activation, Flatten"
   ]
  },
  {
   "cell_type": "code",
   "execution_count": 92,
   "metadata": {},
   "outputs": [
    {
     "name": "stdout",
     "output_type": "stream",
     "text": [
      "Model: \"sequential_4\"\n",
      "_________________________________________________________________\n",
      "Layer (type)                 Output Shape              Param #   \n",
      "=================================================================\n",
      "dense_4 (Dense)              (None, 1)                 61        \n",
      "=================================================================\n",
      "Total params: 61\n",
      "Trainable params: 61\n",
      "Non-trainable params: 0\n",
      "_________________________________________________________________\n"
     ]
    },
    {
     "name": "stderr",
     "output_type": "stream",
     "text": [
      "C:\\ProgramData\\Anaconda3\\lib\\site-packages\\ipykernel_launcher.py:2: UserWarning: Update your `Dense` call to the Keras 2 API: `Dense(input_shape=(60,), activation=\"sigmoid\", units=1, kernel_initializer=\"normal\")`\n",
      "  \n"
     ]
    }
   ],
   "source": [
    "model = Sequential()\n",
    "model.add(Dense(output_dim=1, input_shape=(60,), init='normal', activation='sigmoid'))\n",
    "model.compile(loss=\"binary_crossentropy\",optimizer=\"adam\",metrics=[\"accuracy\"])\n",
    "model.summary()"
   ]
  },
  {
   "cell_type": "code",
   "execution_count": 85,
   "metadata": {},
   "outputs": [],
   "source": [
    "#X_train = X_train.astype('float32')"
   ]
  },
  {
   "cell_type": "code",
   "execution_count": 86,
   "metadata": {},
   "outputs": [
    {
     "data": {
      "text/plain": [
       "(4000, 60)"
      ]
     },
     "execution_count": 86,
     "metadata": {},
     "output_type": "execute_result"
    }
   ],
   "source": [
    "norm_trn_D.shape"
   ]
  },
  {
   "cell_type": "code",
   "execution_count": 87,
   "metadata": {},
   "outputs": [],
   "source": [
    "trn_D_Y_N = np.zeros((2000,1))"
   ]
  },
  {
   "cell_type": "code",
   "execution_count": 88,
   "metadata": {},
   "outputs": [],
   "source": [
    "trn_D_Y_S = np.ones((2000,1))"
   ]
  },
  {
   "cell_type": "code",
   "execution_count": 89,
   "metadata": {},
   "outputs": [],
   "source": [
    "trn_D_Y = np.concatenate((trn_D_Y_N,trn_D_Y_S), axis=0)"
   ]
  },
  {
   "cell_type": "code",
   "execution_count": 93,
   "metadata": {},
   "outputs": [
    {
     "name": "stdout",
     "output_type": "stream",
     "text": [
      "Epoch 1/10\n",
      "4000/4000 [==============================] - 1s 172us/step - loss: 0.5053 - accuracy: 0.8600\n",
      "Epoch 2/10\n",
      "4000/4000 [==============================] - 0s 63us/step - loss: 0.3475 - accuracy: 0.9293\n",
      "Epoch 3/10\n",
      "4000/4000 [==============================] - 0s 65us/step - loss: 0.2729 - accuracy: 0.9448\n",
      "Epoch 4/10\n",
      "4000/4000 [==============================] - 0s 61us/step - loss: 0.2295 - accuracy: 0.9480\n",
      "Epoch 5/10\n",
      "4000/4000 [==============================] - 0s 72us/step - loss: 0.2012 - accuracy: 0.9523\n",
      "Epoch 6/10\n",
      "4000/4000 [==============================] - 0s 65us/step - loss: 0.1809 - accuracy: 0.9555\n",
      "Epoch 7/10\n",
      "4000/4000 [==============================] - 0s 65us/step - loss: 0.1656 - accuracy: 0.9580\n",
      "Epoch 8/10\n",
      "4000/4000 [==============================] - 0s 71us/step - loss: 0.1537 - accuracy: 0.9603\n",
      "Epoch 9/10\n",
      "4000/4000 [==============================] - 0s 85us/step - loss: 0.1438 - accuracy: 0.9622\n",
      "Epoch 10/10\n",
      "4000/4000 [==============================] - 0s 76us/step - loss: 0.1357 - accuracy: 0.9647\n"
     ]
    }
   ],
   "source": [
    "history = model.fit(norm_trn_D, trn_D_Y,shuffle =True, epochs=10, batch_size=32, verbose=1)"
   ]
  },
  {
   "cell_type": "code",
   "execution_count": 94,
   "metadata": {},
   "outputs": [],
   "source": [
    "tst_N=np.load('./Test_MFCC_N_500.npy')\n",
    "tst_S=np.load('./Test_MFCC_S_500.npy')"
   ]
  },
  {
   "cell_type": "code",
   "execution_count": 95,
   "metadata": {},
   "outputs": [],
   "source": [
    "tst_D=np.concatenate((tst_N,tst_S),axis=0)"
   ]
  },
  {
   "cell_type": "code",
   "execution_count": 96,
   "metadata": {},
   "outputs": [],
   "source": [
    "mean_D = tst_D.mean(axis=0)\n",
    "meanVec = mean_D.reshape(1,60)\n",
    "std_D = tst_D.std(axis=0)\n",
    "stdVec = std_D.reshape(1,60)"
   ]
  },
  {
   "cell_type": "code",
   "execution_count": 97,
   "metadata": {},
   "outputs": [],
   "source": [
    "norm_tst_D = (tst_D - meanVec)/stdVec"
   ]
  },
  {
   "cell_type": "code",
   "execution_count": 98,
   "metadata": {},
   "outputs": [],
   "source": [
    "preds=model.predict(norm_tst_D)"
   ]
  },
  {
   "cell_type": "code",
   "execution_count": 99,
   "metadata": {},
   "outputs": [],
   "source": [
    "TP=0\n",
    "FP=0\n",
    "TN=0\n",
    "FN=0"
   ]
  },
  {
   "cell_type": "code",
   "execution_count": 100,
   "metadata": {},
   "outputs": [],
   "source": [
    "for i in range(len(preds)):\n",
    "  if(i<len(tst_N)):\n",
    "    if(preds[i][0]<0.5):\n",
    "      TN=TN+1\n",
    "    else:\n",
    "      FP=FP+1\n",
    "  else:\n",
    "    if(preds[i][0]>=0.5):\n",
    "      TP=TP+1\n",
    "    else:\n",
    "      FN=FN+1\n"
   ]
  },
  {
   "cell_type": "code",
   "execution_count": 101,
   "metadata": {},
   "outputs": [],
   "source": [
    "import matplotlib.pyplot as plt"
   ]
  },
  {
   "cell_type": "code",
   "execution_count": 102,
   "metadata": {},
   "outputs": [
    {
     "data": {
      "text/plain": [
       "(0.0, 1.0, 0.0, 1.0)"
      ]
     },
     "execution_count": 102,
     "metadata": {},
     "output_type": "execute_result"
    },
    {
     "data": {
      "image/png": "[encoded data removed]",
      "text/plain": [
       "<Figure size 432x288 with 1 Axes>"
      ]
     },
     "metadata": {
      "needs_background": "light"
     },
     "output_type": "display_data"
    }
   ],
   "source": [
    "plt.table(cellText=[[TP,FN],[FP,TN]],cellLoc='center',colWidths=[0.5,0.5],rowLabels=['Shouted(Actual label)','Normal(Actual label)'],colLabels=['Shouted (Prediction)','Normal(Prediction)'],loc=0)\n",
    "plt.axis('off')\n"
   ]
  },
  {
   "cell_type": "code",
   "execution_count": 103,
   "metadata": {},
   "outputs": [
    {
     "name": "stdout",
     "output_type": "stream",
     "text": [
      "TPR= 1.0\n",
      "TNR= 0.97\n",
      "FPR= 0.030000000000000027\n",
      "ACC= 0.985\n"
     ]
    }
   ],
   "source": [
    "print('TPR=',TP/(TP+FN))\n",
    "print('TNR=',TN/(FP+TN))\n",
    "print('FPR=',1-(TN/(FP+TN)))\n",
    "print('ACC=',(TP+TN)/(TP+FN+FP+TN))"
   ]
  },
  {
   "cell_type": "code",
   "execution_count": 104,
   "metadata": {},
   "outputs": [
    {
     "name": "stdout",
     "output_type": "stream",
     "text": [
      "PPV= 0.970873786407767\n",
      "NPV= 1.0\n",
      "BA= 0.985\n",
      "F1(P)= 0.9852216748768473\n",
      "F1(N)= 0.9847715736040609\n"
     ]
    }
   ],
   "source": [
    "print('PPV=',TP/(TP+FP))\n",
    "print('NPV=',TN/(TN+FN))\n",
    "TNR=TN/(FP+TN)\n",
    "TPR=TP/(TP+FN)\n",
    "print('BA=',(TNR+TPR)/2)\n",
    "print('F1(P)=',(2*TP)/((2*TP)+FP+FN))\n",
    "print('F1(N)=',(2*TN)/((2*TN)+FN+FP))"
   ]
  }
 ],
 "metadata": {
  "kernelspec": {
   "display_name": "Python 3",
   "language": "python",
   "name": "python3"
  },
  "language_info": {
   "codemirror_mode": {
    "name": "ipython",
    "version": 3
   },
   "file_extension": ".py",
   "mimetype": "text/x-python",
   "name": "python",
   "nbconvert_exporter": "python",
   "pygments_lexer": "ipython3",
   "version": "3.7.3"
  }
 },
 "nbformat": 4,
 "nbformat_minor": 2
}
